{
 "cells": [
  {
   "cell_type": "markdown",
   "metadata": {},
   "source": [
    "## データ定義"
   ]
  },
  {
   "cell_type": "code",
   "execution_count": 174,
   "metadata": {},
   "outputs": [
    {
     "name": "stderr",
     "output_type": "stream",
     "text": [
      "/usr/bin/.pyenv/versions/3.6.8/lib/python3.6/site-packages/ipykernel_launcher.py:26: DeprecationWarning: use options instead of chrome_options\n",
      "/usr/bin/.pyenv/versions/3.6.8/lib/python3.6/site-packages/ipykernel_launcher.py:28: DeprecationWarning: use setter for headless property instead of set_headless\n"
     ]
    }
   ],
   "source": [
    "import json\n",
    "from requests_oauthlib import OAuth1Session\n",
    "import re\n",
    "import decimal\n",
    "from multiprocessing import Process\n",
    "from requests_oauthlib import OAuth1Session\n",
    "import pandas as pd\n",
    "from tqdm._tqdm_notebook import tqdm_notebook\n",
    "import urllib.request, urllib.error\n",
    "from bs4 import BeautifulSoup\n",
    "from selenium import webdriver\n",
    "import chromedriver_binary\n",
    "from selenium.webdriver.chrome.options import Options\n",
    "import datetime\n",
    "\n",
    "import sys\n",
    "sys.path.append('../config')\n",
    "import config\n",
    "\n",
    "today = datetime.datetime.now().strftime('%Y%m%d')\n",
    "\n",
    "chrome_options = webdriver.ChromeOptions()\n",
    "chrome_options.add_argument('--headless')\n",
    "chrome_options.add_argument('--no-sandbox')\n",
    "# chrome_options.add_argument('--disable-dev-shm-usage')\n",
    "driver= webdriver.Chrome(chrome_options=chrome_options)\n",
    "options = Options()\n",
    "options.set_headless(True)\n",
    "\n",
    "from pytrends.request import TrendReq\n",
    "pytrends = TrendReq()\n",
    "\n",
    "import MeCab\n",
    "mecabTagger = MeCab.Tagger(\"-Ochasen\")\n",
    "\n",
    "# consumer_key = 'EGX737i2FcgfKGofWxOSAp6Wv'\n",
    "# consumer_secret = 'We4QzsL0CBOsC33nSDgfMe6HiJCyeGqgiP1bx8IgZAxXSNWvQA'\n",
    "# access_token = '979914304290893824-Kz3BsGhkr5oqNb2KiQkPUpSMnWI3HSR'\n",
    "# access_token_secret = 'YqQQeXr7N5LgHa3KM3KxfO8llzQCtME5H9kBSa2xUwgcx'\n",
    "consumer_key = config.consumer_key\n",
    "consumer_secret = config.consumer_secret\n",
    "access_token = config.access_token\n",
    "access_token_secret = 'YqQQeXr7N5LgHa3KM3KxfO8llzQCtME5H9kBSa2xUwgcx'\n",
    "\n",
    "\n",
    "twitter = OAuth1Session(consumer_key, consumer_secret, access_token, access_token_secret)\n",
    "url = \"https://api.twitter.com/1.1/trends/place.json\"\n",
    "\n",
    "def get(url, params=None):\n",
    "    response = twitter.get(url, params=params)\n",
    "    text = response.text.replace(':\"\"', ':null') \n",
    "    results = pd.read_json(text)\n",
    "    trends = pd.DataFrame(results['trends'].values[0])\n",
    "    trends['location']=results['locations'][0][0]['name']\n",
    "    trends['woeid']=results['locations'][0][0]['woeid']\n",
    "    return trends"
   ]
  },
  {
   "cell_type": "markdown",
   "metadata": {},
   "source": [
    "## 辞書取得"
   ]
  },
  {
   "cell_type": "markdown",
   "metadata": {},
   "source": [
    "### 食材リストの取得"
   ]
  },
  {
   "cell_type": "code",
   "execution_count": 153,
   "metadata": {},
   "outputs": [],
   "source": [
    "oisix_words = pd.read_csv('./input/食材辞書.csv',encoding = 'shift_jis')"
   ]
  },
  {
   "cell_type": "markdown",
   "metadata": {},
   "source": [
    "### ロケーションの取得"
   ]
  },
  {
   "cell_type": "code",
   "execution_count": 154,
   "metadata": {},
   "outputs": [],
   "source": [
    "locations = pd.read_csv('./input/locations.csv')"
   ]
  },
  {
   "cell_type": "markdown",
   "metadata": {},
   "source": [
    "## トレンド取得"
   ]
  },
  {
   "cell_type": "markdown",
   "metadata": {},
   "source": [
    "### ツイッタートレンドの取得"
   ]
  },
  {
   "cell_type": "code",
   "execution_count": 155,
   "metadata": {},
   "outputs": [],
   "source": [
    "trends = []\n",
    "\n",
    "for w in locations['WOEID'][21:]:\n",
    "    if len(trends) > 0:\n",
    "        twitter_rank = trends.append(get(\"https://api.twitter.com/1.1/trends/place.json\", params={\"id\": w}))\n",
    "    else:\n",
    "        twitter_rank = get(\"https://api.twitter.com/1.1/trends/place.json\", params={\"id\": w})"
   ]
  },
  {
   "cell_type": "markdown",
   "metadata": {},
   "source": [
    "### Googleトレンドの取得"
   ]
  },
  {
   "cell_type": "code",
   "execution_count": 166,
   "metadata": {},
   "outputs": [],
   "source": [
    "url = \"https://trends.google.co.jp/trends/trendingsearches/daily?geo=JP\"\n",
    "driver.get(url)\n",
    "html = driver.page_source.encode('utf-8')\n",
    "soup = BeautifulSoup(html, \"html.parser\")\n",
    "\n",
    "def get_ggl_rank(soup):\n",
    "    rank_list = []\n",
    "    url_list = []\n",
    "    for i in range (20):\n",
    "        try:\n",
    "            text = re.sub('\\n','',soup.select_one(\"body > div.trends-wrapper > div:nth-of-type(2) > div > div.feed-content > div > div.generic-container-wrapper > ng-include > div > div > div > div:nth-of-type(1) > \\\n",
    "                md-list:nth-of-type({}) > feed-item > ng-include > div > div > div.details-wrapper > div.details > div.details-top > div > span > a\".format(i)).text).strip()\n",
    "            rank_list = rank_list + [text]\n",
    "            url = soup.select_one('#feed-item-{} > div.details-wrapper > div.details > div.details-bottom > div.subtitles-text-wrapper.visible > div.summary-text > a'.format(text)).attrs['ng-href']\n",
    "            url_list = url_list + [url]\n",
    "\n",
    "        except:\n",
    "            continue\n",
    "    return rank_list,url_list\n",
    "\n",
    "ggl_rank,ggl_url = get_ggl_rank(soup)"
   ]
  },
  {
   "cell_type": "markdown",
   "metadata": {},
   "source": [
    "### BigLobeトレンドの取得"
   ]
  },
  {
   "cell_type": "code",
   "execution_count": 165,
   "metadata": {},
   "outputs": [],
   "source": [
    "url = \"https://search.biglobe.ne.jp/ranking/\"\n",
    "driver.get(url)\n",
    "html = driver.page_source.encode('utf-8')\n",
    "soup = BeautifulSoup(html, \"html.parser\")\n",
    "\n",
    "biglobe_rank = [soup.select_one('#word-rankBOX-d > div:nth-of-type({}) > div > p.word-rank_rankWORD1-5 > a'.format(i)).text for i in range(2,12)]"
   ]
  },
  {
   "cell_type": "markdown",
   "metadata": {},
   "source": [
    "### Gooトレンドの取得"
   ]
  },
  {
   "cell_type": "code",
   "execution_count": 169,
   "metadata": {},
   "outputs": [],
   "source": [
    "# url = \"https://ranking.goo.ne.jp/ranking/282/\"\n",
    "# driver.get(url)\n",
    "# html = driver.page_source.encode('utf-8')\n",
    "# soup = BeautifulSoup(html, \"html.parser\")\n",
    "\n",
    "# goo_rank = [re.sub('\\n|\\t','',soup.select_one('#NR-main-in > div.list-items.no-border > dl > dd:nth-of-type(1) > ul > li:nth-of-type({}) > div.ranking-content > div > div > h2'.format(i)).text) for i in [1,2,3,5,6,7,9,10,11,12]]"
   ]
  },
  {
   "cell_type": "markdown",
   "metadata": {},
   "source": [
    "### ついップルトレンドの取得"
   ]
  },
  {
   "cell_type": "code",
   "execution_count": 172,
   "metadata": {},
   "outputs": [],
   "source": [
    "url = \"https://tr.twipple.jp/hotword/\"\n",
    "driver.get(url)\n",
    "html = driver.page_source.encode('utf-8')\n",
    "soup = BeautifulSoup(html, \"html.parser\")\n",
    "\n",
    "twiple_rank = [soup.select_one('#rankArea > div:nth-child({}) > div.lBox > div.rankTtl > a'.format(i)).text for i in range(1,11)]"
   ]
  },
  {
   "cell_type": "code",
   "execution_count": 173,
   "metadata": {},
   "outputs": [
    {
     "data": {
      "text/plain": [
       "['土砂降り',\n",
       " '#ij954',\n",
       " 'テロ',\n",
       " 'MAX',\n",
       " 'アマナ',\n",
       " '#ノンストップ',\n",
       " '#ウエルシア',\n",
       " 'Apex',\n",
       " '属性の神',\n",
       " '市役所']"
      ]
     },
     "execution_count": 173,
     "metadata": {},
     "output_type": "execute_result"
    }
   ],
   "source": [
    "twiple_rank"
   ]
  },
  {
   "cell_type": "markdown",
   "metadata": {},
   "source": [
    "### トレンドのマージ"
   ]
  },
  {
   "cell_type": "code",
   "execution_count": 67,
   "metadata": {},
   "outputs": [
    {
     "data": {
      "text/plain": [
       "'20190424'"
      ]
     },
     "execution_count": 67,
     "metadata": {},
     "output_type": "execute_result"
    }
   ],
   "source": [
    "today"
   ]
  },
  {
   "cell_type": "code",
   "execution_count": 72,
   "metadata": {},
   "outputs": [],
   "source": [
    "#Twitterのランキング\n",
    "twitter_df = pd.DataFrame({'date' : [today]* len(twitter_rank), 'source' : ['Twitter']* len(twitter_rank), 'name' : twitter_rank['name']})\n",
    "\n",
    "#Googleのランキング\n",
    "google_df = pd.DataFrame({'date' : [today]* len(ggl_rank),'source' : ['Google']* len(ggl_rank), 'name' :  ggl_rank})\n",
    "\n",
    "#Biglobeのランキング\n",
    "biglobe_df = pd.DataFrame({'date' : [today]* len(biglobe_rank),'source' : ['Biglobe']* len(biglobe_rank), 'name' :  biglobe_rank})\n",
    "\n",
    "#Gooのランキング\n",
    "goo_df = pd.DataFrame({'date' : [today]* len(goo_rank),'source' : ['Goo']* len(goo_rank), 'name' :  goo_rank})\n",
    "\n",
    "#Twipleのランキング\n",
    "twiple_df = pd.DataFrame({'date' : [today]* len(twiple_rank),'source' : ['Twiple']* len(twiple_rank), 'name' :  twiple_rank})"
   ]
  },
  {
   "cell_type": "code",
   "execution_count": 73,
   "metadata": {},
   "outputs": [],
   "source": [
    "rank_df = pd.concat([twitter_df,google_df,biglobe_df,goo_df,twiple_df],axis=0)"
   ]
  },
  {
   "cell_type": "markdown",
   "metadata": {},
   "source": [
    "### トレンドデータを仮保存"
   ]
  },
  {
   "cell_type": "code",
   "execution_count": 49,
   "metadata": {},
   "outputs": [],
   "source": [
    "rank_df.reset_index(drop=True).to_feather('./output/trend_{}.ftr'.format(today))"
   ]
  },
  {
   "cell_type": "code",
   "execution_count": 83,
   "metadata": {},
   "outputs": [],
   "source": [
    "rank_df = pd.read_feather('./output/trend_{}.ftr'.format(today))"
   ]
  },
  {
   "cell_type": "markdown",
   "metadata": {},
   "source": [
    "## オイシックス関連ワードの分別"
   ]
  },
  {
   "cell_type": "markdown",
   "metadata": {},
   "source": [
    "### 食材リストによる辞書判定"
   ]
  },
  {
   "cell_type": "code",
   "execution_count": 84,
   "metadata": {},
   "outputs": [],
   "source": [
    "rank_df['oisix'] = rank_df['name'].apply(lambda x : sum([ow in x for ow in oisix_words['食材詳細']])>0)"
   ]
  },
  {
   "cell_type": "markdown",
   "metadata": {},
   "source": [
    "### google分類による判定（mecabによる名詞の抽出→タイプ分析）"
   ]
  },
  {
   "cell_type": "code",
   "execution_count": 85,
   "metadata": {},
   "outputs": [],
   "source": [
    "n_list = []\n",
    "for text in rank_df['name']:\n",
    "    node = mecabTagger.parse(text)\n",
    "    df = pd.DataFrame([x.split(\"\\t\") for x in node.split(\"\\n\")])\n",
    "    nauns = df[df[3].fillna('').str.contains('名詞')][0].tolist()\n",
    "    for w in nauns:\n",
    "        n_list.extend([[text, w]])    \n",
    "        \n",
    "df = pd.DataFrame(n_list,columns = ['word','wakachi'])        "
   ]
  },
  {
   "cell_type": "code",
   "execution_count": 86,
   "metadata": {},
   "outputs": [
    {
     "data": {
      "application/vnd.jupyter.widget-view+json": {
       "model_id": "5536d42cc4724a2ab184249bcb8a1ab1",
       "version_major": 2,
       "version_minor": 0
      },
      "text/plain": [
       "HBox(children=(IntProgress(value=0, description='hoge progress: ', max=212), HTML(value='')))"
      ]
     },
     "metadata": {},
     "output_type": "display_data"
    },
    {
     "name": "stdout",
     "output_type": "stream",
     "text": [
      "\n"
     ]
    }
   ],
   "source": [
    "# プログレスバーのラベル設定\n",
    "tqdm_notebook.pandas(desc=\"hoge progress: \")\n",
    "\n",
    "def ggl_categorize(x):\n",
    "    try:\n",
    "        return  [y['type'] for y in pytrends.suggestions(x)][:3]\n",
    "    except:\n",
    "        return  []\n",
    "\n",
    "df['category'] = df['wakachi'].progress_apply(lambda x :ggl_categorize(x))"
   ]
  },
  {
   "cell_type": "code",
   "execution_count": 89,
   "metadata": {},
   "outputs": [],
   "source": [
    "keyword = ['dessert','food', 'plants' ,'tea' , 'dish' ,'noodle','dough','alcohol','algae','amphibians',\n",
    "          'animal','appetizer','aacteria','bagel','bakery','barbecue','bean','beef','beer','beverage','bird','bivalve','bread','breakfast','cafe','cake','cheese',\n",
    "          'fungus','seed','konjac','restaurant','fruit','berry','cookie','fish','pasta','confectionery','condiment','grape','surimi','tofu','cook','flour','spice','drink',\n",
    "          'rice','meat','chicken','pork','vegetable','juice','sprout','tsukemono','poteto','grape','sauce','wine','milk','sweet','yogurt']\n",
    "\n",
    "df['flg'] = df['category'].apply(lambda x : 1 if  sum([key in y.lower() for key in keyword for y in x])>0 else 0 )"
   ]
  },
  {
   "cell_type": "code",
   "execution_count": 101,
   "metadata": {},
   "outputs": [],
   "source": [
    "result = pd.merge(rank_df, pd.DataFrame(df.groupby('word')['flg2'].apply(lambda x : sum(x)>0))['flg2'],left_on='name', right_on='word')"
   ]
  },
  {
   "cell_type": "markdown",
   "metadata": {},
   "source": [
    "### mecabで分解してからの辞書一致"
   ]
  },
  {
   "cell_type": "code",
   "execution_count": 91,
   "metadata": {},
   "outputs": [
    {
     "data": {
      "application/vnd.jupyter.widget-view+json": {
       "model_id": "c1c0e5e1a01647b8a22f393bcfbdf60d",
       "version_major": 2,
       "version_minor": 0
      },
      "text/plain": [
       "HBox(children=(IntProgress(value=0, description='hoge progress: ', max=212), HTML(value='')))"
      ]
     },
     "metadata": {},
     "output_type": "display_data"
    },
    {
     "name": "stdout",
     "output_type": "stream",
     "text": [
      "\n"
     ]
    }
   ],
   "source": [
    "# プログレスバーのラベル設定\n",
    "tqdm_notebook.pandas(desc=\"hoge progress: \")\n",
    "df['flg2'] = df['wakachi'].progress_apply(lambda x : sum(oisix_words['食材詳細'] == x)>0)"
   ]
  },
  {
   "cell_type": "code",
   "execution_count": 93,
   "metadata": {},
   "outputs": [
    {
     "ename": "SyntaxError",
     "evalue": "invalid syntax (<ipython-input-93-81f7cc87421c>, line 1)",
     "output_type": "error",
     "traceback": [
      "\u001b[0;36m  File \u001b[0;32m\"<ipython-input-93-81f7cc87421c>\"\u001b[0;36m, line \u001b[0;32m1\u001b[0m\n\u001b[0;31m    key in y.lower() for key in keyword for y in x\u001b[0m\n\u001b[0m                       ^\u001b[0m\n\u001b[0;31mSyntaxError\u001b[0m\u001b[0;31m:\u001b[0m invalid syntax\n"
     ]
    }
   ],
   "source": [
    "key in y.lower() for key in keyword for y in x"
   ]
  },
  {
   "cell_type": "code",
   "execution_count": 102,
   "metadata": {},
   "outputs": [
    {
     "data": {
      "text/html": [
       "<div>\n",
       "<style scoped>\n",
       "    .dataframe tbody tr th:only-of-type {\n",
       "        vertical-align: middle;\n",
       "    }\n",
       "\n",
       "    .dataframe tbody tr th {\n",
       "        vertical-align: top;\n",
       "    }\n",
       "\n",
       "    .dataframe thead th {\n",
       "        text-align: right;\n",
       "    }\n",
       "</style>\n",
       "<table border=\"1\" class=\"dataframe\">\n",
       "  <thead>\n",
       "    <tr style=\"text-align: right;\">\n",
       "      <th></th>\n",
       "      <th>word</th>\n",
       "      <th>wakachi</th>\n",
       "      <th>category</th>\n",
       "      <th>flg</th>\n",
       "      <th>flg2</th>\n",
       "    </tr>\n",
       "  </thead>\n",
       "  <tbody>\n",
       "    <tr>\n",
       "      <th>71</th>\n",
       "      <td>ヤギのチーズ</td>\n",
       "      <td>チーズ</td>\n",
       "      <td>[Dairy product, Dessert, Family entertainment ...</td>\n",
       "      <td>1</td>\n",
       "      <td>True</td>\n",
       "    </tr>\n",
       "    <tr>\n",
       "      <th>207</th>\n",
       "      <td>#nhk_suppin</td>\n",
       "      <td>_</td>\n",
       "      <td>[Studio album by Caravan Palace]</td>\n",
       "      <td>0</td>\n",
       "      <td>True</td>\n",
       "    </tr>\n",
       "  </tbody>\n",
       "</table>\n",
       "</div>"
      ],
      "text/plain": [
       "            word wakachi                                           category  \\\n",
       "71        ヤギのチーズ     チーズ  [Dairy product, Dessert, Family entertainment ...   \n",
       "207  #nhk_suppin       _                   [Studio album by Caravan Palace]   \n",
       "\n",
       "     flg  flg2  \n",
       "71     1  True  \n",
       "207    0  True  "
      ]
     },
     "execution_count": 102,
     "metadata": {},
     "output_type": "execute_result"
    }
   ],
   "source": [
    "df[df['flg2']>0]"
   ]
  },
  {
   "cell_type": "code",
   "execution_count": 104,
   "metadata": {},
   "outputs": [
    {
     "data": {
      "text/html": [
       "<div>\n",
       "<style scoped>\n",
       "    .dataframe tbody tr th:only-of-type {\n",
       "        vertical-align: middle;\n",
       "    }\n",
       "\n",
       "    .dataframe tbody tr th {\n",
       "        vertical-align: top;\n",
       "    }\n",
       "\n",
       "    .dataframe thead th {\n",
       "        text-align: right;\n",
       "    }\n",
       "</style>\n",
       "<table border=\"1\" class=\"dataframe\">\n",
       "  <thead>\n",
       "    <tr style=\"text-align: right;\">\n",
       "      <th></th>\n",
       "      <th>source</th>\n",
       "      <th>name</th>\n",
       "      <th>date</th>\n",
       "      <th>oisix</th>\n",
       "      <th>flg2</th>\n",
       "    </tr>\n",
       "  </thead>\n",
       "  <tbody>\n",
       "    <tr>\n",
       "      <th>2</th>\n",
       "      <td>Twitter</td>\n",
       "      <td>#平成のあなたが秘密にしていたこと</td>\n",
       "      <td>20190424</td>\n",
       "      <td>True</td>\n",
       "      <td>False</td>\n",
       "    </tr>\n",
       "    <tr>\n",
       "      <th>26</th>\n",
       "      <td>Twitter</td>\n",
       "      <td>ヤギのチーズ</td>\n",
       "      <td>20190424</td>\n",
       "      <td>True</td>\n",
       "      <td>True</td>\n",
       "    </tr>\n",
       "    <tr>\n",
       "      <th>64</th>\n",
       "      <td>Biglobe</td>\n",
       "      <td>和食</td>\n",
       "      <td>20190424</td>\n",
       "      <td>True</td>\n",
       "      <td>False</td>\n",
       "    </tr>\n",
       "    <tr>\n",
       "      <th>81</th>\n",
       "      <td>Twiple</td>\n",
       "      <td>#nhk_suppin</td>\n",
       "      <td>20190424</td>\n",
       "      <td>True</td>\n",
       "      <td>True</td>\n",
       "    </tr>\n",
       "  </tbody>\n",
       "</table>\n",
       "</div>"
      ],
      "text/plain": [
       "     source               name      date  oisix   flg2\n",
       "2   Twitter  #平成のあなたが秘密にしていたこと  20190424   True  False\n",
       "26  Twitter             ヤギのチーズ  20190424   True   True\n",
       "64  Biglobe                 和食  20190424   True  False\n",
       "81   Twiple        #nhk_suppin  20190424   True   True"
      ]
     },
     "execution_count": 104,
     "metadata": {},
     "output_type": "execute_result"
    }
   ],
   "source": [
    "result[result['oisix']|result['flg2']]"
   ]
  },
  {
   "cell_type": "code",
   "execution_count": null,
   "metadata": {},
   "outputs": [],
   "source": []
  }
 ],
 "metadata": {
  "kernelspec": {
   "display_name": "Python 3",
   "language": "python",
   "name": "python3"
  },
  "language_info": {
   "codemirror_mode": {
    "name": "ipython",
    "version": 3
   },
   "file_extension": ".py",
   "mimetype": "text/x-python",
   "name": "python",
   "nbconvert_exporter": "python",
   "pygments_lexer": "ipython3",
   "version": "3.6.8"
  },
  "toc": {
   "base_numbering": 1,
   "nav_menu": {},
   "number_sections": true,
   "sideBar": true,
   "skip_h1_title": false,
   "title_cell": "Table of Contents",
   "title_sidebar": "Contents",
   "toc_cell": false,
   "toc_position": {},
   "toc_section_display": true,
   "toc_window_display": true
  }
 },
 "nbformat": 4,
 "nbformat_minor": 2
}
